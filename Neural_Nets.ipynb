{
 "cells": [
  {
   "cell_type": "code",
   "execution_count": 1,
   "metadata": {
    "collapsed": true
   },
   "outputs": [],
   "source": [
    "import numpy as np"
   ]
  },
  {
   "cell_type": "code",
   "execution_count": 20,
   "metadata": {},
   "outputs": [
    {
     "name": "stdout",
     "output_type": "stream",
     "text": [
      "[[0 0 1]\n",
      " [0 1 1]\n",
      " [1 0 1]\n",
      " [1 1 1]]\n",
      "[[0]\n",
      " [1]\n",
      " [1]\n",
      " [0]]\n"
     ]
    }
   ],
   "source": [
    "input_data = np.array([[0,0,1],\n",
    "                      [0,1,1],\n",
    "                      [1,0,1],\n",
    "                      [1,1,1]])\n",
    "\n",
    "output_labels = np.array([[0],\n",
    "                       [1],\n",
    "                       [1],\n",
    "                       [0]])\n",
    "\n",
    "print(input_data)\n",
    "print(output_labels)"
   ]
  },
  {
   "cell_type": "code",
   "execution_count": 5,
   "metadata": {
    "collapsed": true
   },
   "outputs": [],
   "source": [
    "def activate(x, deriv = False):\n",
    "    if(deriv ==True):\n",
    "        return x*(1-x)\n",
    "    return 1/(1+np.exp(-x))"
   ]
  },
  {
   "cell_type": "code",
   "execution_count": 34,
   "metadata": {
    "scrolled": true
   },
   "outputs": [
    {
     "name": "stdout",
     "output_type": "stream",
     "text": [
      "[[-0.16595599  0.44064899 -0.99977125 -0.39533485]\n",
      " [-0.70648822 -0.81532281 -0.62747958 -0.30887855]\n",
      " [-0.20646505  0.07763347 -0.16161097  0.370439  ]]\n",
      "[[-0.5910955 ]\n",
      " [ 0.75623487]\n",
      " [-0.94522481]\n",
      " [ 0.34093502]]\n"
     ]
    }
   ],
   "source": [
    "np.random.seed(1)\n",
    "synaptic_weight_0 = 2*np.random.random((3,4)) -1 \n",
    "synaptic_weight_1 = 2*np.random.random((4,1)) -1\n",
    "print(synaptic_weight_0)\n",
    "print(synaptic_weight_1)"
   ]
  },
  {
   "cell_type": "code",
   "execution_count": 35,
   "metadata": {},
   "outputs": [
    {
     "name": "stdout",
     "output_type": "stream",
     "text": [
      "Error:0.496410031903\n",
      "Error:0.00858452565325\n",
      "Error:0.00578945986251\n",
      "Error:0.00462917677677\n",
      "Error:0.00395876528027\n",
      "Error:0.00351012256786\n"
     ]
    }
   ],
   "source": [
    "for j in range(60000):\n",
    "\n",
    "    # Forward propagate through layers 0, 1, and 2# Forward \n",
    "    layer0 = input_data\n",
    "    layer1 = activate(np.dot(layer0,synaptic_weight_0))\n",
    "    layer2 = activate(np.dot(layer1,synaptic_weight_1))\n",
    "\n",
    "    #calculate error for layer 2\n",
    "    layer2_error = output_labels - layer2\n",
    "    \n",
    "    if (j % 10000) == 0:\n",
    "        print(\"Error:\" + str(np.mean(np.abs(layer2_error))))\n",
    "        \n",
    "    #Use it to compute the gradient\n",
    "    layer2_gradient = layer2_error*activate(layer2,deriv=True)\n",
    "\n",
    "    #calculate error for layer 1\n",
    "    layer1_error = layer2_gradient.dot(synaptic_weight_1.T)\n",
    "    \n",
    "    #Use it to compute its gradient\n",
    "    layer1_gradient = layer1_error * activate(layer1,deriv=True)\n",
    "    \n",
    "    #update the weights using the gradients\n",
    "    synaptic_weight_1 += layer1.T.dot(layer2_gradient)\n",
    "    synaptic_weight_0 += layer0.T.dot(layer1_gradient)"
   ]
  },
  {
   "cell_type": "code",
   "execution_count": 36,
   "metadata": {},
   "outputs": [
    {
     "name": "stdout",
     "output_type": "stream",
     "text": [
      "[[ 0.00260572]\n",
      " [ 0.99672209]\n",
      " [ 0.99701711]\n",
      " [ 0.00386759]]\n"
     ]
    }
   ],
   "source": [
    "print(layer2)"
   ]
  },
  {
   "cell_type": "code",
   "execution_count": 41,
   "metadata": {},
   "outputs": [],
   "source": [
    "a = np.array([[0,0,1]])"
   ]
  },
  {
   "cell_type": "code",
   "execution_count": 44,
   "metadata": {},
   "outputs": [
    {
     "data": {
      "text/plain": [
       "(1, 3)"
      ]
     },
     "execution_count": 44,
     "metadata": {},
     "output_type": "execute_result"
    }
   ],
   "source": [
    "a.shape"
   ]
  },
  {
   "cell_type": "code",
   "execution_count": 49,
   "metadata": {},
   "outputs": [
    {
     "data": {
      "text/plain": [
       "array([[-0.16595599,  0.44064899, -0.99977125],\n",
       "       [-0.39533485, -0.70648822, -0.81532281],\n",
       "       [-0.62747958, -0.30887855, -0.20646505],\n",
       "       [ 0.07763347, -0.16161097,  0.370439  ]])"
      ]
     },
     "execution_count": 49,
     "metadata": {},
     "output_type": "execute_result"
    }
   ],
   "source": [
    "np.random.seed(1)\n",
    "2*np.random.random((4,3)) -1 "
   ]
  },
  {
   "cell_type": "code",
   "execution_count": 60,
   "metadata": {},
   "outputs": [
    {
     "data": {
      "text/plain": [
       "array([[ 0.52996499]])"
      ]
     },
     "execution_count": 60,
     "metadata": {},
     "output_type": "execute_result"
    }
   ],
   "source": [
    "activate(np.dot((2*np.random.random((1,4)) -1),\n",
    "                activate(np.dot((2*np.random.random((4,3)) -1),\n",
    "                                a.T))))"
   ]
  },
  {
   "cell_type": "code",
   "execution_count": 62,
   "metadata": {},
   "outputs": [
    {
     "data": {
      "text/plain": [
       "array([[ 0.21186736]])"
      ]
     },
     "execution_count": 62,
     "metadata": {},
     "output_type": "execute_result"
    }
   ],
   "source": [
    "activate(np.dot(activate(np.dot(a,\n",
    "                                (2*np.random.random((3,4)) -1))),\n",
    "               (2*np.random.random((4,1)) -1),))"
   ]
  },
  {
   "cell_type": "code",
   "execution_count": 69,
   "metadata": {},
   "outputs": [
    {
     "name": "stdout",
     "output_type": "stream",
     "text": [
      "[[-0.16595599  0.44064899 -0.99977125 -0.39533485]\n",
      " [-0.70648822 -0.81532281 -0.62747958 -0.30887855]\n",
      " [-0.20646505  0.07763347 -0.16161097  0.370439  ]]\n"
     ]
    },
    {
     "data": {
      "text/plain": [
       "array([[ 0.60148914,  0.93652315, -0.37315164,  0.38464523],\n",
       "       [ 0.43609874,  1.05390281, -1.09237777, -0.21915179],\n",
       "       [ 0.01039364,  1.69275802, -1.31837646,  0.72558025],\n",
       "       [-0.15499676,  1.81013768, -2.03760258,  0.12178323]])"
      ]
     },
     "execution_count": 69,
     "metadata": {},
     "output_type": "execute_result"
    }
   ],
   "source": [
    "np.random.seed(1)\n",
    "print(2*np.random.random((3,4)) -1)\n",
    "np.dot(input_data,(2*np.random.random((3,4)) -1))"
   ]
  },
  {
   "cell_type": "code",
   "execution_count": 67,
   "metadata": {},
   "outputs": [
    {
     "data": {
      "text/plain": [
       "array([[-0.20646505,  0.07763347, -0.16161097,  0.370439  ]])"
      ]
     },
     "execution_count": 67,
     "metadata": {},
     "output_type": "execute_result"
    }
   ],
   "source": [
    "np.random.seed(1)\n",
    "np.dot(a,(2*np.random.random((3,4)) -1))"
   ]
  },
  {
   "cell_type": "code",
   "execution_count": null,
   "metadata": {
    "collapsed": true
   },
   "outputs": [],
   "source": []
  }
 ],
 "metadata": {
  "kernelspec": {
   "display_name": "Python 3",
   "language": "python",
   "name": "python3"
  },
  "language_info": {
   "codemirror_mode": {
    "name": "ipython",
    "version": 3
   },
   "file_extension": ".py",
   "mimetype": "text/x-python",
   "name": "python",
   "nbconvert_exporter": "python",
   "pygments_lexer": "ipython3",
   "version": "3.6.3"
  },
  "latex_envs": {
   "LaTeX_envs_menu_present": true,
   "autocomplete": true,
   "bibliofile": "biblio.bib",
   "cite_by": "apalike",
   "current_citInitial": 1,
   "eqLabelWithNumbers": true,
   "eqNumInitial": 1,
   "hotkeys": {
    "equation": "Ctrl-E",
    "itemize": "Ctrl-I"
   },
   "labels_anchors": false,
   "latex_user_defs": false,
   "report_style_numbering": false,
   "user_envs_cfg": false
  }
 },
 "nbformat": 4,
 "nbformat_minor": 2
}
